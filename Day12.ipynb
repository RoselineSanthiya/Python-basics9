{
  "nbformat": 4,
  "nbformat_minor": 0,
  "metadata": {
    "colab": {
      "provenance": []
    },
    "kernelspec": {
      "name": "python3",
      "display_name": "Python 3"
    },
    "language_info": {
      "name": "python"
    }
  },
  "cells": [
    {
      "cell_type": "code",
      "execution_count": null,
      "metadata": {
        "id": "rX37UK2O9G0d"
      },
      "outputs": [],
      "source": [
        "phno=1234567890\n",
        "if(phno==10):\n",
        "  print (valid)"
      ]
    },
    {
      "cell_type": "code",
      "source": [
        "phnum=\"9843089535\"\n",
        "phnum.isascii()\n",
        "if(phnum==\"9843089535\"):\n",
        "    print (phnum+ \"is valid:\")"
      ],
      "metadata": {
        "colab": {
          "base_uri": "https://localhost:8080/"
        },
        "id": "LLoa7EdzBRWd",
        "outputId": "4aa0ecdd-eca1-467b-cf24-80dfa12c60f4"
      },
      "execution_count": null,
      "outputs": [
        {
          "output_type": "stream",
          "name": "stdout",
          "text": [
            "9843089535is valid:\n"
          ]
        }
      ]
    },
    {
      "cell_type": "code",
      "source": [
        "countrycode=int(input(\"Enter country code+\"))\n",
        "if(countrycode==\"91\"):\n",
        "  phonenumber=int(input(\"enter phno with country code \"))\n",
        "  if(phonenumber>1234567890 and phonenumber<9999999999):\n",
        "      print(\"valid mobile no\")"
      ],
      "metadata": {
        "colab": {
          "base_uri": "https://localhost:8080/"
        },
        "id": "5SyQR-WAIVyp",
        "outputId": "1d61b5f1-158f-4c43-fbff-b6e0a5dcdc59"
      },
      "execution_count": null,
      "outputs": [
        {
          "name": "stdout",
          "output_type": "stream",
          "text": [
            "Enter country code+919867543612\n"
          ]
        }
      ]
    },
    {
      "cell_type": "code",
      "source": [
        "year=2023\n",
        "if(year%400==0)&(year%100==0):\n",
        "  print (\"2023 is a leap year\")\n",
        "elif(year%4==0)&(year%100!=0):\n",
        "  print (\"2023 is a leap year\")\n",
        "else:\n",
        "  print(\"2023 is not a leap year\")"
      ],
      "metadata": {
        "id": "LbWJBo5Zg93F",
        "colab": {
          "base_uri": "https://localhost:8080/"
        },
        "outputId": "4adc1b7a-9693-4997-d215-b3f880a4c7e2"
      },
      "execution_count": null,
      "outputs": [
        {
          "output_type": "stream",
          "name": "stdout",
          "text": [
            "2023 is not a leap year\n"
          ]
        }
      ]
    },
    {
      "cell_type": "code",
      "source": [
        "a=5\n",
        "b=10\n",
        "c=15\n",
        "if(a!=b&c>b):\n",
        "  if(a<b):\n",
        "    print ('true')\n",
        "  else:\n",
        "    print ('false')\n",
        "elif(a<b|b!=a):\n",
        "  if(a<b):\n",
        "    print ('truee')\n",
        "  else:\n",
        "     print ('false')\n",
        "else:\n",
        "  print ('invalid')"
      ],
      "metadata": {
        "id": "G0Eb1R60u0r8",
        "colab": {
          "base_uri": "https://localhost:8080/"
        },
        "outputId": "d116b1df-fb73-4b14-88d2-3a05489c9549"
      },
      "execution_count": null,
      "outputs": [
        {
          "output_type": "stream",
          "name": "stdout",
          "text": [
            "truee\n"
          ]
        }
      ]
    },
    {
      "cell_type": "code",
      "source": [
        "a,b,c=5,10,15\n",
        "if(a<b|b==a):\n",
        "  print ('true')\n",
        "else:\n",
        "  print ('false')"
      ],
      "metadata": {
        "colab": {
          "base_uri": "https://localhost:8080/"
        },
        "id": "hVXn5JbA25Y1",
        "outputId": "c6ffc3c5-4042-4b3f-d8c2-6f429cbcb274"
      },
      "execution_count": null,
      "outputs": [
        {
          "output_type": "stream",
          "name": "stdout",
          "text": [
            "false\n"
          ]
        }
      ]
    },
    {
      "cell_type": "code",
      "source": [],
      "metadata": {
        "id": "ODlij5CK5cvz"
      },
      "execution_count": null,
      "outputs": []
    },
    {
      "cell_type": "code",
      "source": [],
      "metadata": {
        "id": "UFPqznypu30n"
      },
      "execution_count": null,
      "outputs": []
    }
  ]
}